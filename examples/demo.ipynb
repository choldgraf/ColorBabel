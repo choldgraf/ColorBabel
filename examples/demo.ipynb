{
 "cells": [
  {
   "cell_type": "code",
   "execution_count": 2,
   "metadata": {
    "collapsed": false
   },
   "outputs": [],
   "source": [
    "import colorbabel as cb\n",
    "import matplotlib.pyplot as plt\n",
    "import numpy as np\n",
    "import seaborn as sns\n",
    "import colorlover as cl\n",
    "from IPython.display import HTML\n",
    "import webcolors\n",
    "%matplotlib inline"
   ]
  },
  {
   "cell_type": "markdown",
   "metadata": {},
   "source": [
    "# Inputs"
   ]
  },
  {
   "cell_type": "code",
   "execution_count": 3,
   "metadata": {
    "collapsed": false
   },
   "outputs": [
    {
     "data": {
      "image/png": "[encoded data removed]",
      "text/plain": [
       "<matplotlib.figure.Figure at 0x116ef0750>"
      ]
     },
     "metadata": {},
     "output_type": "display_data"
    },
    {
     "data": {
      "image/png": "[encoded data removed]",
      "text/plain": [
       "<matplotlib.figure.Figure at 0x116ef07d0>"
      ]
     },
     "metadata": {},
     "output_type": "display_data"
    },
    {
     "data": {
      "image/png": "[encoded data removed]",
      "text/plain": [
       "<matplotlib.figure.Figure at 0x1063b0090>"
      ]
     },
     "metadata": {},
     "output_type": "display_data"
    },
    {
     "data": {
      "image/png": "[encoded data removed]",
      "text/plain": [
       "<matplotlib.figure.Figure at 0x118cbd990>"
      ]
     },
     "metadata": {},
     "output_type": "display_data"
    },
    {
     "data": {
      "image/png": "[encoded data removed]",
      "text/plain": [
       "<matplotlib.figure.Figure at 0x118d58290>"
      ]
     },
     "metadata": {},
     "output_type": "display_data"
    }
   ],
   "source": [
    "# List of strings\n",
    "cm = cb.ColorTranslator(['rgb(255, 0, 0)', 'rgb(0, 0, 255)'])\n",
    "cm.show_colors()\n",
    "\n",
    "# array of rgb\n",
    "cm = cb.ColorTranslator([(255, 0, 0), (0, 0, 255)])\n",
    "cm.show_colors()\n",
    "\n",
    "# array of 0 - 1\n",
    "cm = cb.ColorTranslator([(1, 0, 0), (0, 0, 1)])\n",
    "cm.show_colors()\n",
    "\n",
    "# Hex values\n",
    "cm = cb.ColorTranslator(['#ff0000', '#0000ff'])\n",
    "cm.show_colors()\n",
    "\n",
    "# Name input\n",
    "cm = cb.ColorTranslator(['red', 'blue'])\n",
    "cm.show_colors()\n",
    "\n",
    "# Colormap input\n",
    "cmap = plt.cm.rainbow\n",
    "cm = cb.ColorTranslator(cmap)"
   ]
  },
  {
   "cell_type": "markdown",
   "metadata": {},
   "source": [
    "# Display"
   ]
  },
  {
   "cell_type": "code",
   "execution_count": 4,
   "metadata": {
    "collapsed": false
   },
   "outputs": [
    {
     "data": {
      "image/png": "[encoded data removed]",
      "text/plain": [
       "<matplotlib.figure.Figure at 0x116e6fa90>"
      ]
     },
     "metadata": {},
     "output_type": "display_data"
    }
   ],
   "source": [
    "# Show color spectrum\n",
    "cm.show_colors()"
   ]
  },
  {
   "cell_type": "code",
   "execution_count": 5,
   "metadata": {
    "collapsed": false
   },
   "outputs": [
    {
     "data": {
      "image/png": "[encoded data removed]",
      "text/plain": [
       "<matplotlib.figure.Figure at 0x119367390>"
      ]
     },
     "metadata": {},
     "output_type": "display_data"
    }
   ],
   "source": [
    "# As bins\n",
    "cm.show_colors(10)"
   ]
  },
  {
   "cell_type": "markdown",
   "metadata": {},
   "source": [
    "# Outputs"
   ]
  },
  {
   "cell_type": "code",
   "execution_count": 6,
   "metadata": {
    "collapsed": false
   },
   "outputs": [
    {
     "data": {
      "image/png": "[encoded data removed]",
      "text/plain": [
       "<matplotlib.figure.Figure at 0x1193ee990>"
      ]
     },
     "metadata": {},
     "output_type": "display_data"
    }
   ],
   "source": [
    "# To rgb arrays\n",
    "nums = cm.to_numeric(n_bins=5)\n",
    "sns.palplot(nums)"
   ]
  },
  {
   "cell_type": "code",
   "execution_count": 7,
   "metadata": {
    "collapsed": false
   },
   "outputs": [
    {
     "data": {
      "image/png": "[encoded data removed]",
      "text/plain": [
       "<matplotlib.figure.Figure at 0x119538e90>"
      ]
     },
     "metadata": {},
     "output_type": "display_data"
    },
    {
     "data": {
      "image/png": "[encoded data removed]",
      "text/plain": [
       "<matplotlib.figure.Figure at 0x119635210>"
      ]
     },
     "metadata": {},
     "output_type": "display_data"
    }
   ],
   "source": [
    "# Indexing subsets\n",
    "sns.palplot(cm([0, .5, 1]))\n",
    "sns.palplot(cm([0, 50, 100], vmin=0, vmax=100))"
   ]
  },
  {
   "cell_type": "code",
   "execution_count": 8,
   "metadata": {
    "collapsed": false
   },
   "outputs": [
    {
     "data": {
      "text/html": [
       "<div style=\"background-color:hsl(270, 100%, 50%);height:20px;width:20px;display:inline-block;\"></div><div style=\"background-color:hsl(144, 100%, 75%);height:20px;width:20px;display:inline-block;\"></div><div style=\"background-color:hsl(0, 100%, 50%);height:20px;width:20px;display:inline-block;\"></div>"
      ],
      "text/plain": [
       "<IPython.core.display.HTML object>"
      ]
     },
     "execution_count": 8,
     "metadata": {},
     "output_type": "execute_result"
    }
   ],
   "source": [
    "# Show a subset\n",
    "cm([0, .5, 1], kind='html')"
   ]
  },
  {
   "cell_type": "code",
   "execution_count": 9,
   "metadata": {
    "collapsed": false
   },
   "outputs": [
    {
     "data": {
      "text/plain": [
       "array([[ 274.90753408,  100.00194861,   40.84904061],\n",
       "       [ 230.95407129,   99.96287356,   68.76600576],\n",
       "       [ 141.31387197,   99.9979393 ,   91.42864804],\n",
       "       [  44.54085522,   99.99625267,   78.58352465],\n",
       "       [  12.16877961,   99.99755183,   53.23288179]])"
      ]
     },
     "execution_count": 9,
     "metadata": {},
     "output_type": "execute_result"
    }
   ],
   "source": [
    "# To husl\n",
    "husl = cm.to_numeric(n_bins=5, kind='husl')\n",
    "husl"
   ]
  },
  {
   "cell_type": "code",
   "execution_count": 10,
   "metadata": {
    "collapsed": false
   },
   "outputs": [
    {
     "data": {
      "image/png": "[encoded data removed]",
      "text/plain": [
       "<matplotlib.figure.Figure at 0x1193f7dd0>"
      ]
     },
     "metadata": {},
     "output_type": "display_data"
    }
   ],
   "source": [
    "# To HTML hex codes\n",
    "sns.palplot(cm.to_strings(n_bins=5, kind='hex'))"
   ]
  },
  {
   "cell_type": "code",
   "execution_count": 11,
   "metadata": {
    "collapsed": false
   },
   "outputs": [
    {
     "name": "stdout",
     "output_type": "stream",
     "text": [
      "['rgb(127.5, 0.0, 255.0)', 'rgb(0.49999999999999822, 180.86673343949261, 235.43872205689976)', 'rgb(128.5, 254.99516197392535, 179.75601446106756)', 'rgb(255.0, 178.63847458628922, 96.494817760789132)', 'rgb(255.0, 3.1228493378257507e-14, 1.5614246689128753e-14)']\n",
      "---\n",
      "['hsl(270, 100%, 50%)', 'hsl(194, 100%, 46%)', 'hsl(144, 100%, 75%)', 'hsl(31, 100%, 69%)', 'hsl(0, 100%, 50%)']\n"
     ]
    },
    {
     "data": {
      "text/html": [
       "<div style=\"background-color:hsl(270, 100%, 50%);height:20px;width:20px;display:inline-block;\"></div><div style=\"background-color:hsl(194, 100%, 46%);height:20px;width:20px;display:inline-block;\"></div><div style=\"background-color:hsl(144, 100%, 75%);height:20px;width:20px;display:inline-block;\"></div><div style=\"background-color:hsl(31, 100%, 69%);height:20px;width:20px;display:inline-block;\"></div><div style=\"background-color:hsl(0, 100%, 50%);height:20px;width:20px;display:inline-block;\"></div>"
      ],
      "text/plain": [
       "<IPython.core.display.HTML object>"
      ]
     },
     "execution_count": 11,
     "metadata": {},
     "output_type": "execute_result"
    }
   ],
   "source": [
    "# To plotly strings\n",
    "strings_a = cm.to_strings(n_bins=5)\n",
    "strings_b = cm.to_strings(n_bins=5, kind='husl')\n",
    "print('{}\\n---\\n{}'.format(strings_a, strings_b))\n",
    "HTML(cl.to_html(strings_b))"
   ]
  },
  {
   "cell_type": "code",
   "execution_count": 12,
   "metadata": {
    "collapsed": false
   },
   "outputs": [
    {
     "data": {
      "text/plain": [
       "[u'darkviolet', u'deepskyblue', u'aquamarine', u'sandybrown', u'red']"
      ]
     },
     "execution_count": 12,
     "metadata": {},
     "output_type": "execute_result"
    }
   ],
   "source": [
    "# To a name for each color (if possible)\n",
    "cm.to_strings(n_bins=5, kind='name')"
   ]
  },
  {
   "cell_type": "code",
   "execution_count": 13,
   "metadata": {
    "collapsed": false
   },
   "outputs": [
    {
     "data": {
      "image/png": "[encoded data removed]",
      "text/plain": [
       "<matplotlib.figure.Figure at 0x118d01350>"
      ]
     },
     "metadata": {},
     "output_type": "display_data"
    },
    {
     "data": {
      "image/png": "[encoded data removed]",
      "text/plain": [
       "<matplotlib.figure.Figure at 0x1191b2cd0>"
      ]
     },
     "metadata": {},
     "output_type": "display_data"
    }
   ],
   "source": [
    "# To diverging colormap (from cmap ends)\n",
    "cb.ColorTranslator(cm.to_diverging()).show_colors()\n",
    "cb.ColorTranslator(cm.to_diverging(center='dark')).show_colors()"
   ]
  },
  {
   "cell_type": "code",
   "execution_count": null,
   "metadata": {
    "collapsed": true
   },
   "outputs": [],
   "source": []
  }
 ],
 "metadata": {
  "kernelspec": {
   "display_name": "Python 2",
   "language": "python",
   "name": "python2"
  },
  "language_info": {
   "codemirror_mode": {
    "name": "ipython",
    "version": 2
   },
   "file_extension": ".py",
   "mimetype": "text/x-python",
   "name": "python",
   "nbconvert_exporter": "python",
   "pygments_lexer": "ipython2",
   "version": "2.7.11"
  }
 },
 "nbformat": 4,
 "nbformat_minor": 0
}
