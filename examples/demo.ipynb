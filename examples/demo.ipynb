{
 "cells": [
  {
   "cell_type": "code",
   "execution_count": null,
   "metadata": {
    "collapsed": false,
    "scrolled": true
   },
   "outputs": [],
   "source": [
    "import colorbabel as cb\n",
    "import matplotlib.pyplot as plt\n",
    "import numpy as np\n",
    "import seaborn as sns\n",
    "import colorlover as cl\n",
    "from IPython.display import HTML\n",
    "import webcolors\n",
    "%matplotlib inline"
   ]
  },
  {
   "cell_type": "markdown",
   "metadata": {},
   "source": [
    "# Input"
   ]
  },
  {
   "cell_type": "code",
   "execution_count": null,
   "metadata": {
    "collapsed": false
   },
   "outputs": [],
   "source": [
    "# List of strings\n",
    "cm = cb.ColorTranslator(['rgb(255, 0, 0)', 'rgb(0, 0, 255)'])\n",
    "cm.show_colors()\n",
    "\n",
    "# array of rgb\n",
    "cm = cb.ColorTranslator([(255, 0, 0), (0, 0, 255)])\n",
    "cm.show_colors()\n",
    "\n",
    "# array of 0 - 1\n",
    "cm = cb.ColorTranslator([(1, 0, 0), (0, 0, 1)])\n",
    "cm.show_colors()\n",
    "\n",
    "# Hex values\n",
    "cm = cb.ColorTranslator(['#ff0000', '#0000ff'])\n",
    "cm.show_colors()\n",
    "\n",
    "# Name input\n",
    "cm = cb.ColorTranslator(['red', 'blue'])\n",
    "cm.show_colors()"
   ]
  },
  {
   "cell_type": "markdown",
   "metadata": {},
   "source": [
    "# Display"
   ]
  },
  {
   "cell_type": "code",
   "execution_count": null,
   "metadata": {
    "collapsed": false
   },
   "outputs": [],
   "source": [
    "# Colormap input\n",
    "cmap = plt.cm.rainbow\n",
    "cm = cb.ColorTranslator(cmap)\n",
    "\n",
    "# Show color spectrum\n",
    "cm.show_colors()"
   ]
  },
  {
   "cell_type": "code",
   "execution_count": null,
   "metadata": {
    "collapsed": false
   },
   "outputs": [],
   "source": [
    "# As bins\n",
    "cm.show_colors(10)"
   ]
  },
  {
   "cell_type": "markdown",
   "metadata": {},
   "source": [
    "# Outputs"
   ]
  },
  {
   "cell_type": "code",
   "execution_count": null,
   "metadata": {
    "collapsed": false
   },
   "outputs": [],
   "source": [
    "# To rgb arrays\n",
    "nums = cm.to_numeric(n_bins=5)\n",
    "sns.palplot(nums)"
   ]
  },
  {
   "cell_type": "code",
   "execution_count": null,
   "metadata": {
    "collapsed": false
   },
   "outputs": [],
   "source": [
    "# Indexing subsets\n",
    "sns.palplot(cm([0, .5, 1]))\n",
    "sns.palplot(cm([0, 50, 100], vmin=0, vmax=100))"
   ]
  },
  {
   "cell_type": "code",
   "execution_count": null,
   "metadata": {
    "collapsed": false
   },
   "outputs": [],
   "source": [
    "# Show a subset\n",
    "cm([0, .5, 1], kind='html')"
   ]
  },
  {
   "cell_type": "code",
   "execution_count": null,
   "metadata": {
    "collapsed": false
   },
   "outputs": [],
   "source": [
    "# To husl\n",
    "husl = cm.to_numeric(n_bins=5, kind='husl')\n",
    "husl"
   ]
  },
  {
   "cell_type": "code",
   "execution_count": null,
   "metadata": {
    "collapsed": false
   },
   "outputs": [],
   "source": [
    "cm.to_strings(n_bins=5, kind='hex')"
   ]
  },
  {
   "cell_type": "code",
   "execution_count": null,
   "metadata": {
    "collapsed": false
   },
   "outputs": [],
   "source": [
    "# To HTML hex codes\n",
    "sns.palplot(cm.to_strings(n_bins=5, kind='hex'))"
   ]
  },
  {
   "cell_type": "code",
   "execution_count": null,
   "metadata": {
    "collapsed": false
   },
   "outputs": [],
   "source": [
    "# To plotly strings\n",
    "strings_a = cm.to_strings(n_bins=5)\n",
    "strings_b = cm.to_strings(n_bins=5, kind='husl')\n",
    "print('{}\\n---\\n{}'.format(strings_a, strings_b))\n",
    "HTML(cl.to_html(strings_b))"
   ]
  },
  {
   "cell_type": "code",
   "execution_count": null,
   "metadata": {
    "collapsed": false
   },
   "outputs": [],
   "source": [
    "# To a name for each color (if possible)\n",
    "cm.to_strings(n_bins=5, kind='name')"
   ]
  },
  {
   "cell_type": "code",
   "execution_count": null,
   "metadata": {
    "collapsed": false
   },
   "outputs": [],
   "source": [
    "# To diverging colormap (from cmap ends)\n",
    "cb.ColorTranslator(cm.to_diverging()).show_colors()\n",
    "cb.ColorTranslator(cm.to_diverging(center='dark')).show_colors()"
   ]
  },
  {
   "cell_type": "code",
   "execution_count": null,
   "metadata": {
    "collapsed": true
   },
   "outputs": [],
   "source": []
  }
 ],
 "metadata": {
  "kernelspec": {
   "display_name": "Python 3",
   "language": "python",
   "name": "python3"
  },
  "language_info": {
   "codemirror_mode": {
    "name": "ipython",
    "version": 3
   },
   "file_extension": ".py",
   "mimetype": "text/x-python",
   "name": "python",
   "nbconvert_exporter": "python",
   "pygments_lexer": "ipython3",
   "version": "3.5.2"
  }
 },
 "nbformat": 4,
 "nbformat_minor": 0
}
